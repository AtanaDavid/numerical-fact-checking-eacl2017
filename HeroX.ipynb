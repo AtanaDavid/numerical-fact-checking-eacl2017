{
 "cells": [
  {
   "cell_type": "markdown",
   "metadata": {
    "collapsed": true
   },
   "source": [
    "# HeroX Numerical Fact Checking System. Univeristy of Sheffield\n",
    "\n",
    "Pre-requisites:\n",
    " * Gradle\n",
    " * Java jdk8\n",
    " * Python 3\n",
    "  * jnius\n",
    "  * fuzzywuzzy\n",
    "  * sklearn\n",
    "  * urllib3\n",
    " "
   ]
  },
  {
   "cell_type": "markdown",
   "metadata": {},
   "source": [
    "## Common setup\n",
    "\n",
    "Import required dependencies and download/install Stanford CoreNLP"
   ]
  },
  {
   "cell_type": "code",
   "execution_count": 1,
   "metadata": {
    "collapsed": false
   },
   "outputs": [],
   "source": [
    "import sys\n",
    "import os\n",
    "import re\n",
    "\n",
    "#Set path manually to incldue sources location\n",
    "if 'src/' not in sys.path:\n",
    "    sys.path.append('src/')\n"
   ]
  },
  {
   "cell_type": "code",
   "execution_count": 2,
   "metadata": {
    "collapsed": false
   },
   "outputs": [
    {
     "name": "stdout",
     "output_type": "stream",
     "text": [
      "Loading classpath\n",
      "Done\n"
     ]
    }
   ],
   "source": [
    "#Load Java classpath for stanford corenlp using gradle. this will also install it if missing\n",
    "from subprocess import run,PIPE\n",
    "if 'CLASSPATH' not in os.environ:\n",
    "    if not (os.path.exists('build') and os.path.exists('build/classpath.txt')):\n",
    "        print(\"Generating classpath\")\n",
    "        r=run([\"./gradlew\", \"writeClasspath\"],stdout=PIPE, stderr=PIPE, universal_newlines=True)\n",
    "        print(r.stdout)\n",
    "        print(r.stderr)\n",
    "              \n",
    "    print(\"Loading classpath\")\n",
    "    os.environ['CLASSPATH'] = open('build/classpath.txt','r').read()\n",
    "    print(\"Done\")"
   ]
  },
  {
   "cell_type": "markdown",
   "metadata": {},
   "source": [
    "## Data Generation"
   ]
  },
  {
   "cell_type": "markdown",
   "metadata": {},
   "source": [
    "### Generate Search Engine Queries From Tables"
   ]
  },
  {
   "cell_type": "code",
   "execution_count": 5,
   "metadata": {
    "collapsed": false
   },
   "outputs": [
    {
     "name": "stdout",
     "output_type": "stream",
     "text": [
      "Generating Queries\n",
      "Already done. No need to run again\n",
      "Finished\n"
     ]
    }
   ],
   "source": [
    "from distant_supervision.query_generation import generate_queries\n",
    "from tabular.table_reader import read_table, number_tuples\n",
    "from wikitablequestions.dataset_reader import load_instances\n",
    "\n",
    "print(\"Generating Queries\")\n",
    "world = \"herox\"\n",
    "if os.path.exists(\"data/distant_supervision/queries_\"+world +\".txt\"):\n",
    "    print(\"Already done. No need to run again\")\n",
    "else:\n",
    "    all_instances = []\n",
    "    all_instances.extend(load_instances(world))\n",
    "    table_files = []\n",
    "\n",
    "    done = 0\n",
    "    for instance in all_instances:\n",
    "        table_files.append(instance['table'])\n",
    "\n",
    "    table_files = set(table_files)\n",
    "\n",
    "    with open(\"data/distant_supervision/queries_\"+world +\".txt\", \"w+\") as file:\n",
    "        for table_file in table_files:\n",
    "            done += 1\n",
    "            print(\"Parsing \" + str(done) +\"/\"+str(len(table_files)) + \"\\t\\t\\t\" + table_file)\n",
    "            table = number_tuples(read_table(table_file))\n",
    "            tuples = generate_queries(table)\n",
    "\n",
    "\n",
    "            for tuple in tuples:\n",
    "                file.write(table_file + \"\\t\" + tuple + \"\\n\")\n",
    "            file.flush()\n",
    "            os.fsync(file.fileno())\n",
    "print(\"Finished\")"
   ]
  },
  {
   "cell_type": "markdown",
   "metadata": {},
   "source": [
    "## Download all web pages for queries"
   ]
  },
  {
   "cell_type": "code",
   "execution_count": null,
   "metadata": {
    "collapsed": false
   },
   "outputs": [
    {
     "name": "stdout",
     "output_type": "stream",
     "text": [
      "Search for \"America\" \"Number of honey producing bee colonies\" 2013\n",
      "Query already executed\n",
      "0.0035239806885858267%\n",
      "Search for \"America\" \"Number of honey producing bee colonies\" 2006\n",
      "Query already executed\n",
      "https://www.bing.com/cr?IG=F9338EB0B81F41DF91166058EC895A83&CID=28124D299BB56D8519C844C29A526C5F&rd=1&h=KPVJZ3tbruO5W1iCVCbR4m_-GkBt-34O3aaTWIJYWGI&v=1&r=https%3a%2f%2fwww.reddit.com%2fr%2fworldnews%2fcomments%2f35yfyj%2fhoneybees_dying_situation_unheard_of%2f&p=DevEx,5333.1\n"
     ]
    },
    {
     "name": "stderr",
     "output_type": "stream",
     "text": [
      "/Users/james/anaconda/lib/python3.5/site-packages/urllib3/connectionpool.py:843: InsecureRequestWarning: Unverified HTTPS request is being made. Adding certificate verification is strongly advised. See: https://urllib3.readthedocs.io/en/latest/advanced-usage.html#ssl-warnings\n",
      "  InsecureRequestWarning)\n",
      "/Users/james/anaconda/lib/python3.5/site-packages/urllib3/connectionpool.py:843: InsecureRequestWarning: Unverified HTTPS request is being made. Adding certificate verification is strongly advised. See: https://urllib3.readthedocs.io/en/latest/advanced-usage.html#ssl-warnings\n",
      "  InsecureRequestWarning)\n",
      "/Users/james/anaconda/lib/python3.5/site-packages/urllib3/connectionpool.py:843: InsecureRequestWarning: Unverified HTTPS request is being made. Adding certificate verification is strongly advised. See: https://urllib3.readthedocs.io/en/latest/advanced-usage.html#ssl-warnings\n",
      "  InsecureRequestWarning)\n"
     ]
    },
    {
     "name": "stdout",
     "output_type": "stream",
     "text": [
      "0.0070479613771716534%\n",
      "Search for \"America\" \"Number of honey producing bee colonies\" 2003\n",
      "Query already executed\n",
      "0.01057194206575748%\n",
      "Search for \"America\" \"Number of honey producing bee colonies\" 2011\n",
      "Query already executed\n",
      "http://www.bing.com/cr?IG=4D4ACD8956F242F0B7631F796E4B4810&CID=36E29FF58701604E0C06961E86E66193&rd=1&h=_U8MWc1Ap4eFodbKJoRlxagL8hTgvtimjHbmC-YBlFA&v=1&r=http%3a%2f%2fwww.startribune.com%2fnation-had-more-bees-and-honey-last-year-usda-says%2f116961113%2f&p=DevEx,5110.1\n",
      "http://www.bing.com/cr?IG=4D4ACD8956F242F0B7631F796E4B4810&CID=36E29FF58701604E0C06961E86E66193&rd=1&h=72tw_nNy2PQKBYL2CexP-7aRhKrUJsXL5911qhj2ck8&v=1&r=http%3a%2f%2fescholarship.org%2fuc%2fitem%2f8pp7r3bj.pdf&p=DevEx,5122.1\n",
      "https://www.bing.com/cr?IG=4D4ACD8956F242F0B7631F796E4B4810&CID=36E29FF58701604E0C06961E86E66193&rd=1&h=9_EDTqNhxdgAq1-fENnvvR-04C3cS9boLXPB05SU_sk&v=1&r=https%3a%2f%2fwww.scribd.com%2fdocument%2f268914519%2fGlobal-Bee-Colony-Disorder-and-Threats-Insect-Pollinators&p=DevEx,5134.1\n"
     ]
    },
    {
     "name": "stderr",
     "output_type": "stream",
     "text": [
      "/Users/james/anaconda/lib/python3.5/site-packages/urllib3/connectionpool.py:843: InsecureRequestWarning: Unverified HTTPS request is being made. Adding certificate verification is strongly advised. See: https://urllib3.readthedocs.io/en/latest/advanced-usage.html#ssl-warnings\n",
      "  InsecureRequestWarning)\n",
      "/Users/james/anaconda/lib/python3.5/site-packages/urllib3/connectionpool.py:843: InsecureRequestWarning: Unverified HTTPS request is being made. Adding certificate verification is strongly advised. See: https://urllib3.readthedocs.io/en/latest/advanced-usage.html#ssl-warnings\n",
      "  InsecureRequestWarning)\n"
     ]
    },
    {
     "name": "stdout",
     "output_type": "stream",
     "text": [
      "http://www.bing.com/cr?IG=4D4ACD8956F242F0B7631F796E4B4810&CID=36E29FF58701604E0C06961E86E66193&rd=1&h=RCN0fTV3zWFDqyqDv-jtKBO85pUX7vy640uqERYdj58&v=1&r=http%3a%2f%2fhiveharvest.com%2fblog%2f&p=DevEx,5147.1\n",
      "https://www.bing.com/cr?IG=4D4ACD8956F242F0B7631F796E4B4810&CID=36E29FF58701604E0C06961E86E66193&rd=1&h=URRJvErT5_ootr4bQl7POee1oMSFI8P1BUxpagTQsrg&v=1&r=https%3a%2f%2fwww.nass.usda.gov%2fData_and_Statistics%2fSpecial_Tabulations%2fRequest_a_Tabulation%2fdata-lab-records4.php&p=DevEx,5159.1\n"
     ]
    },
    {
     "name": "stderr",
     "output_type": "stream",
     "text": [
      "/Users/james/anaconda/lib/python3.5/site-packages/urllib3/connectionpool.py:843: InsecureRequestWarning: Unverified HTTPS request is being made. Adding certificate verification is strongly advised. See: https://urllib3.readthedocs.io/en/latest/advanced-usage.html#ssl-warnings\n",
      "  InsecureRequestWarning)\n",
      "/Users/james/anaconda/lib/python3.5/site-packages/urllib3/connectionpool.py:843: InsecureRequestWarning: Unverified HTTPS request is being made. Adding certificate verification is strongly advised. See: https://urllib3.readthedocs.io/en/latest/advanced-usage.html#ssl-warnings\n",
      "  InsecureRequestWarning)\n"
     ]
    },
    {
     "name": "stdout",
     "output_type": "stream",
     "text": [
      "http://www.bing.com/cr?IG=4D4ACD8956F242F0B7631F796E4B4810&CID=36E29FF58701604E0C06961E86E66193&rd=1&h=99G_BRoEgUCKtBrv1U3GRfuHDRxk7u2cJlVI1CA-Qmk&v=1&r=http%3a%2f%2fwww.sustainalytics.com%2feu-pesticide-ban-and-potential-impact-chemicals-industry&p=DevEx,5172.1\n",
      "http://www.bing.com/cr?IG=4D4ACD8956F242F0B7631F796E4B4810&CID=36E29FF58701604E0C06961E86E66193&rd=1&h=qnjE5XzKZpEA7hVWAcPzg9ampFwvW4pocbMpjjC6IOc&v=1&r=http%3a%2f%2fwww.thedailymeal.com%2fhog-wild-and-produce-free-statistical-breakdown-our-food-landscape&p=DevEx,5184.1\n",
      "https://www.bing.com/cr?IG=4D4ACD8956F242F0B7631F796E4B4810&CID=36E29FF58701604E0C06961E86E66193&rd=1&h=VhhdjciyIKtMJEs6qboqoop7Ql49QPUr57WoiEe7D68&v=1&r=https%3a%2f%2fissuu.com%2fbendeines%2fdocs%2fthesis_pages_small&p=DevEx,5197.1\n"
     ]
    },
    {
     "name": "stderr",
     "output_type": "stream",
     "text": [
      "/Users/james/anaconda/lib/python3.5/site-packages/urllib3/connectionpool.py:843: InsecureRequestWarning: Unverified HTTPS request is being made. Adding certificate verification is strongly advised. See: https://urllib3.readthedocs.io/en/latest/advanced-usage.html#ssl-warnings\n",
      "  InsecureRequestWarning)\n",
      "/Users/james/anaconda/lib/python3.5/site-packages/urllib3/connectionpool.py:843: InsecureRequestWarning: Unverified HTTPS request is being made. Adding certificate verification is strongly advised. See: https://urllib3.readthedocs.io/en/latest/advanced-usage.html#ssl-warnings\n",
      "  InsecureRequestWarning)\n"
     ]
    },
    {
     "name": "stdout",
     "output_type": "stream",
     "text": [
      "http://www.bing.com/cr?IG=4D4ACD8956F242F0B7631F796E4B4810&CID=36E29FF58701604E0C06961E86E66193&rd=1&h=KJ-dSeMe8dPJ3p7MmRj-6cmg5x910lTk_6Iwr2Suxj4&v=1&r=http%3a%2f%2fwww.bremnerinvestments.com%2fU.S.%2bQueen%2bBees%2bWork%2bOvertime%2bto%2bSave%2bHives&p=DevEx,5208.1\n",
      "https://www.bing.com/cr?IG=4D4ACD8956F242F0B7631F796E4B4810&CID=36E29FF58701604E0C06961E86E66193&rd=1&h=SDu8m3GSZUOxH2l3aSdvncDREqJ-B4MVYedeTgaCSF8&v=1&r=https%3a%2f%2fwildcatpsychology.wordpress.com%2fresearch-methods%2fawesome-headlines%2f&p=DevEx,5221.1\n"
     ]
    },
    {
     "name": "stderr",
     "output_type": "stream",
     "text": [
      "/Users/james/anaconda/lib/python3.5/site-packages/urllib3/connectionpool.py:843: InsecureRequestWarning: Unverified HTTPS request is being made. Adding certificate verification is strongly advised. See: https://urllib3.readthedocs.io/en/latest/advanced-usage.html#ssl-warnings\n",
      "  InsecureRequestWarning)\n",
      "/Users/james/anaconda/lib/python3.5/site-packages/urllib3/connectionpool.py:843: InsecureRequestWarning: Unverified HTTPS request is being made. Adding certificate verification is strongly advised. See: https://urllib3.readthedocs.io/en/latest/advanced-usage.html#ssl-warnings\n",
      "  InsecureRequestWarning)\n"
     ]
    },
    {
     "name": "stdout",
     "output_type": "stream",
     "text": [
      "https://www.bing.com/cr?IG=4D4ACD8956F242F0B7631F796E4B4810&CID=36E29FF58701604E0C06961E86E66193&rd=1&h=KPVJZ3tbruO5W1iCVCbR4m_-GkBt-34O3aaTWIJYWGI&v=1&r=https%3a%2f%2fwww.reddit.com%2fr%2fworldnews%2fcomments%2f35yfyj%2fhoneybees_dying_situation_unheard_of%2f&p=DevEx,5234.1\n"
     ]
    },
    {
     "name": "stderr",
     "output_type": "stream",
     "text": [
      "/Users/james/anaconda/lib/python3.5/site-packages/urllib3/connectionpool.py:843: InsecureRequestWarning: Unverified HTTPS request is being made. Adding certificate verification is strongly advised. See: https://urllib3.readthedocs.io/en/latest/advanced-usage.html#ssl-warnings\n",
      "  InsecureRequestWarning)\n",
      "/Users/james/anaconda/lib/python3.5/site-packages/urllib3/connectionpool.py:843: InsecureRequestWarning: Unverified HTTPS request is being made. Adding certificate verification is strongly advised. See: https://urllib3.readthedocs.io/en/latest/advanced-usage.html#ssl-warnings\n",
      "  InsecureRequestWarning)\n"
     ]
    },
    {
     "name": "stdout",
     "output_type": "stream",
     "text": [
      "http://www.bing.com/cr?IG=4D4ACD8956F242F0B7631F796E4B4810&CID=36E29FF58701604E0C06961E86E66193&rd=1&h=LrzspxZMYkGHmAmDh0SU5_wIgLaB2OPOhs5Bk6MSkDY&v=1&r=http%3a%2f%2fsociologyadventures.blogspot.com%2f&p=DevEx,5245.1\n",
      "0.014095922754343307%\n",
      "Search for \"America\" \"Number of honey producing bee colonies\" 2012\n",
      "New Query\n"
     ]
    },
    {
     "name": "stderr",
     "output_type": "stream",
     "text": [
      "/Users/james/anaconda/lib/python3.5/site-packages/urllib3/connectionpool.py:843: InsecureRequestWarning: Unverified HTTPS request is being made. Adding certificate verification is strongly advised. See: https://urllib3.readthedocs.io/en/latest/advanced-usage.html#ssl-warnings\n",
      "  InsecureRequestWarning)\n"
     ]
    },
    {
     "name": "stdout",
     "output_type": "stream",
     "text": [
      "http://www.bing.com/cr?IG=2DBBFD9216514AEA80AB626FFFE7BD69&CID=1D28F9D7A5C264073EE0F03CA42565A8&rd=1&h=99G_BRoEgUCKtBrv1U3GRfuHDRxk7u2cJlVI1CA-Qmk&v=1&r=http%3a%2f%2fwww.sustainalytics.com%2feu-pesticide-ban-and-potential-impact-chemicals-industry&p=DevEx,5072.1\n",
      "http://www.bing.com/cr?IG=2DBBFD9216514AEA80AB626FFFE7BD69&CID=1D28F9D7A5C264073EE0F03CA42565A8&rd=1&h=c8tstJuN9iiu2V5C57_L6Qu60Qv3LpoQOBcdudibPzw&v=1&r=http%3a%2f%2fusda.mannlib.cornell.edu%2fMannUsda%2fviewDocumentInfo.do%3fdocumentID%3d1191&p=DevEx,5085.1\n",
      "http://www.bing.com/cr?IG=2DBBFD9216514AEA80AB626FFFE7BD69&CID=1D28F9D7A5C264073EE0F03CA42565A8&rd=1&h=1zCXnIy558IfW2PAG64Uyi1PHE-3JossGOPaH4x4mDA&v=1&r=http%3a%2f%2fwjon.com%2fhoney-production-drops-in-minnesota%2f&p=DevEx,5099.1\n",
      "https://www.bing.com/cr?IG=2DBBFD9216514AEA80AB626FFFE7BD69&CID=1D28F9D7A5C264073EE0F03CA42565A8&rd=1&h=w_l1Fiq8Kn5jLyuzvM857DpTr4d1c3xapJHGfMRetqU&v=1&r=https%3a%2f%2fwww.washingtonpost.com%2fnews%2fwonk%2fwp%2f2015%2f07%2f23%2fcall-off-the-bee-pocalypse-u-s-honeybee-colonies-hit-a-20-year-high%2f&p=DevEx,5113.1\n"
     ]
    },
    {
     "name": "stderr",
     "output_type": "stream",
     "text": [
      "/Users/james/anaconda/lib/python3.5/site-packages/urllib3/connectionpool.py:843: InsecureRequestWarning: Unverified HTTPS request is being made. Adding certificate verification is strongly advised. See: https://urllib3.readthedocs.io/en/latest/advanced-usage.html#ssl-warnings\n",
      "  InsecureRequestWarning)\n",
      "/Users/james/anaconda/lib/python3.5/site-packages/urllib3/connectionpool.py:843: InsecureRequestWarning: Unverified HTTPS request is being made. Adding certificate verification is strongly advised. See: https://urllib3.readthedocs.io/en/latest/advanced-usage.html#ssl-warnings\n",
      "  InsecureRequestWarning)\n"
     ]
    },
    {
     "name": "stdout",
     "output_type": "stream",
     "text": [
      "http://www.bing.com/cr?IG=2DBBFD9216514AEA80AB626FFFE7BD69&CID=1D28F9D7A5C264073EE0F03CA42565A8&rd=1&h=5cZsqwB5fp8VRNw2wHwa1elG-JEHqrkDD3KGd24LCe8&v=1&r=http%3a%2f%2ffox6now.com%2f2012%2f04%2f05%2fnot-so-busy-bees-honey-production-drops-in-wisconsin-in-2011%2f&p=DevEx,5128.1\n",
      "https://www.bing.com/cr?IG=2DBBFD9216514AEA80AB626FFFE7BD69&CID=1D28F9D7A5C264073EE0F03CA42565A8&rd=1&h=9_EDTqNhxdgAq1-fENnvvR-04C3cS9boLXPB05SU_sk&v=1&r=https%3a%2f%2fwww.scribd.com%2fdocument%2f268914519%2fGlobal-Bee-Colony-Disorder-and-Threats-Insect-Pollinators&p=DevEx,5141.1\n"
     ]
    },
    {
     "name": "stderr",
     "output_type": "stream",
     "text": [
      "/Users/james/anaconda/lib/python3.5/site-packages/urllib3/connectionpool.py:843: InsecureRequestWarning: Unverified HTTPS request is being made. Adding certificate verification is strongly advised. See: https://urllib3.readthedocs.io/en/latest/advanced-usage.html#ssl-warnings\n",
      "  InsecureRequestWarning)\n",
      "/Users/james/anaconda/lib/python3.5/site-packages/urllib3/connectionpool.py:843: InsecureRequestWarning: Unverified HTTPS request is being made. Adding certificate verification is strongly advised. See: https://urllib3.readthedocs.io/en/latest/advanced-usage.html#ssl-warnings\n",
      "  InsecureRequestWarning)\n"
     ]
    },
    {
     "name": "stdout",
     "output_type": "stream",
     "text": [
      "http://www.bing.com/cr?IG=2DBBFD9216514AEA80AB626FFFE7BD69&CID=1D28F9D7A5C264073EE0F03CA42565A8&rd=1&h=7PKDvPs1i0gkmDSkUmx4eZF2FmL5FNBVPYYTFK27j64&v=1&r=http%3a%2f%2fwww.slideshare.net%2fChiman%2fglobal-bee-colonydisorderandthreatsinsectpollinators&p=DevEx,5156.1\n",
      "https://www.bing.com/cr?IG=2DBBFD9216514AEA80AB626FFFE7BD69&CID=1D28F9D7A5C264073EE0F03CA42565A8&rd=1&h=URRJvErT5_ootr4bQl7POee1oMSFI8P1BUxpagTQsrg&v=1&r=https%3a%2f%2fwww.nass.usda.gov%2fData_and_Statistics%2fSpecial_Tabulations%2fRequest_a_Tabulation%2fdata-lab-records4.php&p=DevEx,5168.1\n"
     ]
    },
    {
     "name": "stderr",
     "output_type": "stream",
     "text": [
      "/Users/james/anaconda/lib/python3.5/site-packages/urllib3/connectionpool.py:843: InsecureRequestWarning: Unverified HTTPS request is being made. Adding certificate verification is strongly advised. See: https://urllib3.readthedocs.io/en/latest/advanced-usage.html#ssl-warnings\n",
      "  InsecureRequestWarning)\n",
      "/Users/james/anaconda/lib/python3.5/site-packages/urllib3/connectionpool.py:843: InsecureRequestWarning: Unverified HTTPS request is being made. Adding certificate verification is strongly advised. See: https://urllib3.readthedocs.io/en/latest/advanced-usage.html#ssl-warnings\n",
      "  InsecureRequestWarning)\n"
     ]
    },
    {
     "name": "stdout",
     "output_type": "stream",
     "text": [
      "http://www.bing.com/cr?IG=2DBBFD9216514AEA80AB626FFFE7BD69&CID=1D28F9D7A5C264073EE0F03CA42565A8&rd=1&h=w2h4b0cfybdyW5lmlmzqB99BgNMKBrT8nnSGAN9kG6Y&v=1&r=http%3a%2f%2fdocuments.mx%2fdocuments%2fglobal-bee-colony-disorder-and-threats-insect-pollinators.html&p=DevEx,5183.1\n",
      "http://www.bing.com/cr?IG=2DBBFD9216514AEA80AB626FFFE7BD69&CID=1D28F9D7A5C264073EE0F03CA42565A8&rd=1&h=PPF8ndrIpuFUhLrrnNIExok8Ynu4bx8Up929RkZB9q8&v=1&r=http%3a%2f%2fnjshea.com%2f&p=DevEx,5197.1\n",
      "https://www.bing.com/cr?IG=2DBBFD9216514AEA80AB626FFFE7BD69&CID=1D28F9D7A5C264073EE0F03CA42565A8&rd=1&h=VhhdjciyIKtMJEs6qboqoop7Ql49QPUr57WoiEe7D68&v=1&r=https%3a%2f%2fissuu.com%2fbendeines%2fdocs%2fthesis_pages_small&p=DevEx,5210.1\n"
     ]
    },
    {
     "name": "stderr",
     "output_type": "stream",
     "text": [
      "/Users/james/anaconda/lib/python3.5/site-packages/urllib3/connectionpool.py:843: InsecureRequestWarning: Unverified HTTPS request is being made. Adding certificate verification is strongly advised. See: https://urllib3.readthedocs.io/en/latest/advanced-usage.html#ssl-warnings\n",
      "  InsecureRequestWarning)\n",
      "/Users/james/anaconda/lib/python3.5/site-packages/urllib3/connectionpool.py:843: InsecureRequestWarning: Unverified HTTPS request is being made. Adding certificate verification is strongly advised. See: https://urllib3.readthedocs.io/en/latest/advanced-usage.html#ssl-warnings\n",
      "  InsecureRequestWarning)\n"
     ]
    },
    {
     "name": "stdout",
     "output_type": "stream",
     "text": [
      "http://www.bing.com/cr?IG=2DBBFD9216514AEA80AB626FFFE7BD69&CID=1D28F9D7A5C264073EE0F03CA42565A8&rd=1&h=gmQ4yWHlz4GMh6OnYyO8amj_2a8Y4DOtq0DOi-Nsi-I&v=1&r=http%3a%2f%2fdocplayer.net%2f387050-Global-honey-bee-colony-disorders-and-other-threats-to-insect-pollinators.html&p=DevEx,5222.1\n",
      "http://www.bing.com/cr?IG=2DBBFD9216514AEA80AB626FFFE7BD69&CID=1D28F9D7A5C264073EE0F03CA42565A8&rd=1&h=_95SuScLlM7XyaaugJOfVLRfawfkCln7lnmCTFtKyAM&v=1&r=http%3a%2f%2fwww.mike-tanner.co.nz%2f04behaviour.html&p=DevEx,5235.1\n",
      "http://www.bing.com/cr?IG=2DBBFD9216514AEA80AB626FFFE7BD69&CID=1D28F9D7A5C264073EE0F03CA42565A8&rd=1&h=KJ-dSeMe8dPJ3p7MmRj-6cmg5x910lTk_6Iwr2Suxj4&v=1&r=http%3a%2f%2fwww.bremnerinvestments.com%2fU.S.%2bQueen%2bBees%2bWork%2bOvertime%2bto%2bSave%2bHives&p=DevEx,5246.1\n",
      "http://www.bing.com/cr?IG=2DBBFD9216514AEA80AB626FFFE7BD69&CID=1D28F9D7A5C264073EE0F03CA42565A8&rd=1&h=0mFD13f_ifrDaIDAxkojNgTRbBMcUTNcGSr_K59D1Hw&v=1&r=http%3a%2f%2fsociologyinfocus.com%2fauthor%2fnathan%2fpage%2f7%2f&p=DevEx,5258.1\n",
      "http://www.bing.com/cr?IG=2DBBFD9216514AEA80AB626FFFE7BD69&CID=1D28F9D7A5C264073EE0F03CA42565A8&rd=1&h=daDgUZO-Af88kHp-WZMPyTrFBfB6P-x7m_W0ahOWCNA&v=1&r=http%3a%2f%2fwaatp.com%2fpeople%2fdale-wolff%2f18225155%2f&p=DevEx,5271.1\n",
      "https://www.bing.com/cr?IG=2DBBFD9216514AEA80AB626FFFE7BD69&CID=1D28F9D7A5C264073EE0F03CA42565A8&rd=1&h=KPVJZ3tbruO5W1iCVCbR4m_-GkBt-34O3aaTWIJYWGI&v=1&r=https%3a%2f%2fwww.reddit.com%2fr%2fworldnews%2fcomments%2f35yfyj%2fhoneybees_dying_situation_unheard_of%2f&p=DevEx,5284.1\n"
     ]
    },
    {
     "name": "stderr",
     "output_type": "stream",
     "text": [
      "/Users/james/anaconda/lib/python3.5/site-packages/urllib3/connectionpool.py:843: InsecureRequestWarning: Unverified HTTPS request is being made. Adding certificate verification is strongly advised. See: https://urllib3.readthedocs.io/en/latest/advanced-usage.html#ssl-warnings\n",
      "  InsecureRequestWarning)\n",
      "/Users/james/anaconda/lib/python3.5/site-packages/urllib3/connectionpool.py:843: InsecureRequestWarning: Unverified HTTPS request is being made. Adding certificate verification is strongly advised. See: https://urllib3.readthedocs.io/en/latest/advanced-usage.html#ssl-warnings\n",
      "  InsecureRequestWarning)\n"
     ]
    },
    {
     "name": "stdout",
     "output_type": "stream",
     "text": [
      "http://www.bing.com/cr?IG=2DBBFD9216514AEA80AB626FFFE7BD69&CID=1D28F9D7A5C264073EE0F03CA42565A8&rd=1&h=LrzspxZMYkGHmAmDh0SU5_wIgLaB2OPOhs5Bk6MSkDY&v=1&r=http%3a%2f%2fsociologyadventures.blogspot.com%2f&p=DevEx,5295.1\n",
      "0.017619903442929134%\n",
      "Search for \"America\" \"Number of honey producing bee colonies\" 2010\n",
      "New Query\n"
     ]
    },
    {
     "name": "stderr",
     "output_type": "stream",
     "text": [
      "/Users/james/anaconda/lib/python3.5/site-packages/urllib3/connectionpool.py:843: InsecureRequestWarning: Unverified HTTPS request is being made. Adding certificate verification is strongly advised. See: https://urllib3.readthedocs.io/en/latest/advanced-usage.html#ssl-warnings\n",
      "  InsecureRequestWarning)\n"
     ]
    },
    {
     "name": "stdout",
     "output_type": "stream",
     "text": [
      "http://www.bing.com/cr?IG=A627A3B8043748018DA452F1CEBA365D&CID=1B3D1E9FD9586F1734CB1774D8BF6ED9&rd=1&h=FiNvnCqzVqr2sHxk60r1daucaH-EVA9Lgh3bkZUcNfA&v=1&r=http%3a%2f%2fwww.perc.org%2farticles%2feveryone-calm-down-there-no-bee-pocalypse&p=DevEx,5076.1\n",
      "http://www.bing.com/cr?IG=A627A3B8043748018DA452F1CEBA365D&CID=1B3D1E9FD9586F1734CB1774D8BF6ED9&rd=1&h=c8tstJuN9iiu2V5C57_L6Qu60Qv3LpoQOBcdudibPzw&v=1&r=http%3a%2f%2fusda.mannlib.cornell.edu%2fMannUsda%2fviewDocumentInfo.do%3fdocumentID%3d1191&p=DevEx,5089.1\n",
      "http://www.bing.com/cr?IG=A627A3B8043748018DA452F1CEBA365D&CID=1B3D1E9FD9586F1734CB1774D8BF6ED9&rd=1&h=72tw_nNy2PQKBYL2CexP-7aRhKrUJsXL5911qhj2ck8&v=1&r=http%3a%2f%2fescholarship.org%2fuc%2fitem%2f8pp7r3bj.pdf&p=DevEx,5101.1\n",
      "http://www.bing.com/cr?IG=A627A3B8043748018DA452F1CEBA365D&CID=1B3D1E9FD9586F1734CB1774D8BF6ED9&rd=1&h=99G_BRoEgUCKtBrv1U3GRfuHDRxk7u2cJlVI1CA-Qmk&v=1&r=http%3a%2f%2fwww.sustainalytics.com%2feu-pesticide-ban-and-potential-impact-chemicals-industry&p=DevEx,5113.1\n",
      "https://www.bing.com/cr?IG=A627A3B8043748018DA452F1CEBA365D&CID=1B3D1E9FD9586F1734CB1774D8BF6ED9&rd=1&h=9_EDTqNhxdgAq1-fENnvvR-04C3cS9boLXPB05SU_sk&v=1&r=https%3a%2f%2fwww.scribd.com%2fdocument%2f268914519%2fGlobal-Bee-Colony-Disorder-and-Threats-Insect-Pollinators&p=DevEx,5126.1\n"
     ]
    },
    {
     "name": "stderr",
     "output_type": "stream",
     "text": [
      "/Users/james/anaconda/lib/python3.5/site-packages/urllib3/connectionpool.py:843: InsecureRequestWarning: Unverified HTTPS request is being made. Adding certificate verification is strongly advised. See: https://urllib3.readthedocs.io/en/latest/advanced-usage.html#ssl-warnings\n",
      "  InsecureRequestWarning)\n",
      "/Users/james/anaconda/lib/python3.5/site-packages/urllib3/connectionpool.py:843: InsecureRequestWarning: Unverified HTTPS request is being made. Adding certificate verification is strongly advised. See: https://urllib3.readthedocs.io/en/latest/advanced-usage.html#ssl-warnings\n",
      "  InsecureRequestWarning)\n"
     ]
    },
    {
     "name": "stdout",
     "output_type": "stream",
     "text": [
      "http://www.bing.com/cr?IG=A627A3B8043748018DA452F1CEBA365D&CID=1B3D1E9FD9586F1734CB1774D8BF6ED9&rd=1&h=RCN0fTV3zWFDqyqDv-jtKBO85pUX7vy640uqERYdj58&v=1&r=http%3a%2f%2fhiveharvest.com%2fblog%2f&p=DevEx,5139.1\n",
      "http://www.bing.com/cr?IG=A627A3B8043748018DA452F1CEBA365D&CID=1B3D1E9FD9586F1734CB1774D8BF6ED9&rd=1&h=PPF8ndrIpuFUhLrrnNIExok8Ynu4bx8Up929RkZB9q8&v=1&r=http%3a%2f%2fnjshea.com%2f&p=DevEx,5153.1\n",
      "http://www.bing.com/cr?IG=A627A3B8043748018DA452F1CEBA365D&CID=1B3D1E9FD9586F1734CB1774D8BF6ED9&rd=1&h=7PKDvPs1i0gkmDSkUmx4eZF2FmL5FNBVPYYTFK27j64&v=1&r=http%3a%2f%2fwww.slideshare.net%2fChiman%2fglobal-bee-colonydisorderandthreatsinsectpollinators&p=DevEx,5168.1\n",
      "http://www.bing.com/cr?IG=A627A3B8043748018DA452F1CEBA365D&CID=1B3D1E9FD9586F1734CB1774D8BF6ED9&rd=1&h=_U8MWc1Ap4eFodbKJoRlxagL8hTgvtimjHbmC-YBlFA&v=1&r=http%3a%2f%2fwww.startribune.com%2fnation-had-more-bees-and-honey-last-year-usda-says%2f116961113%2f&p=DevEx,5181.1\n"
     ]
    }
   ],
   "source": [
    "import sys\n",
    "\n",
    "from distant_supervision.clean_html import get_text\n",
    "from distant_supervision.search import Search\n",
    "\n",
    "\n",
    "world = \"herox\"\n",
    "\n",
    "with open(\"data/distant_supervision/queries_\"+world+\".txt\", \"r\") as file:\n",
    "    lines = file.readlines()\n",
    "    num_qs = len(lines)\n",
    "    done = 0\n",
    "    for line in lines:\n",
    "        done += 1\n",
    "        query = line.replace(\"\\n\",\" \").strip().split(\"\\t\")\n",
    "\n",
    "        table = query[0]\n",
    "        search = query[2]\n",
    "\n",
    "        if search.split(\"\\\" \\\"\")[1].replace(\"\\\"\",\"\").isnumeric():\n",
    "            print(\"skipped\")\n",
    "            print (query)\n",
    "        else:\n",
    "            try:\n",
    "                urls = Search.instance().search(search)\n",
    "\n",
    "                for url in urls:\n",
    "                    a = get_text(url)\n",
    "            except:\n",
    "                pass\n",
    "            print(str(100*done/num_qs) + \"%\")"
   ]
  },
  {
   "cell_type": "markdown",
   "metadata": {},
   "source": [
    "## Fact Checking\n",
    "\n",
    "### Training\n",
    "Load Modules for fact checking, generate the features and train our classifier from our training data"
   ]
  },
  {
   "cell_type": "code",
   "execution_count": null,
   "metadata": {
    "collapsed": false
   },
   "outputs": [],
   "source": [
    "from classifier.LogisticRegressionClassifier import LogisticRegressionClassifier\n",
    "from classifier.features.generate_features import FeatureGenerator, num, is_num\n",
    "from distant_supervision.utterance_detection import f_threshold_match\n",
    "from factchecking.question import Question\n",
    "from tabular.filtering import load_collection"
   ]
  },
  {
   "cell_type": "code",
   "execution_count": null,
   "metadata": {
    "collapsed": false
   },
   "outputs": [],
   "source": [
    "fg = FeatureGenerator()\n",
    "Xs,ys = fg.generate_training()"
   ]
  },
  {
   "cell_type": "code",
   "execution_count": null,
   "metadata": {
    "collapsed": false
   },
   "outputs": [],
   "source": [
    "classifier = LogisticRegressionClassifier()\n",
    "classifier.train(Xs,ys)"
   ]
  },
  {
   "cell_type": "markdown",
   "metadata": {
    "collapsed": true
   },
   "source": [
    "### Runtime\n",
    "\n",
    "Load the source data"
   ]
  },
  {
   "cell_type": "code",
   "execution_count": null,
   "metadata": {
    "collapsed": false
   },
   "outputs": [],
   "source": [
    "tables = load_collection(\"herox\")"
   ]
  },
  {
   "cell_type": "markdown",
   "metadata": {},
   "source": [
    "Define the fact checking function"
   ]
  },
  {
   "cell_type": "code",
   "execution_count": null,
   "metadata": {
    "collapsed": false
   },
   "outputs": [],
   "source": [
    "def fact_check(q):\n",
    "    question = Question(text=q, type=\"NUM\")\n",
    "    tuples,q_features = fg.generate_test(tables,question)\n",
    "\n",
    "    q_match = False\n",
    "\n",
    "    if len(tuples)>0:\n",
    "    \n",
    "        \n",
    "        \n",
    "        q_predicted = classifier.predict(q_features)\n",
    "\n",
    "        for i in range(len(tuples)):\n",
    "            tuple = tuples[i]\n",
    "            \n",
    "            skip = False\n",
    "            if len(tuple[1]['date']) and len(question.dates):\n",
    "                for date in question.dates:\n",
    "                    dstrs = set()\n",
    "                    for d in question.dates:\n",
    "                        dstrs.add(str(d))\n",
    "                    if not len(set(tuple[1]['date']).intersection(dstrs)):\n",
    "                        skip = True\n",
    "                        \n",
    "            if skip:\n",
    "                continue\n",
    "    \n",
    "\n",
    "            if is_num(tuple[1]['value']):\n",
    "                prediction = q_predicted[i]\n",
    "                features = q_features[i]\n",
    "\n",
    "                if prediction == 1:\n",
    "                    print(str(tuple) + \"\\t\\t\" + (\"Possible Match\" if prediction else \"No match\"))\n",
    "                    for number in question.numbers:\n",
    "                        value = num(tuple[1]['value'])\n",
    "\n",
    "                        if value is None:\n",
    "                            continue\n",
    "\n",
    "                        if f_threshold_match(number, value, 0.05):\n",
    "                            print(str(tuple) + \"\\t\\t\" + \"Threshold Match to 5%\")\n",
    "                            q_match = True\n",
    "\n",
    "                    for number in question.dates:\n",
    "                        value = num(tuple[1]['value'])\n",
    "                        if number == value:\n",
    "                            print(str(tuple) + \"\\t\\t\" + \"Exact Match\")\n",
    "                            q_match = True\n",
    "        print(question.text)\n",
    "        print(q_match)\n",
    "\n",
    "    else:\n",
    "        print(question.text)\n",
    "        print(\"No supporting information can be found in the knowledge base\")\n",
    "    print(\"\\n\\n\")"
   ]
  },
  {
   "cell_type": "markdown",
   "metadata": {},
   "source": [
    "# Fact checking"
   ]
  },
  {
   "cell_type": "code",
   "execution_count": null,
   "metadata": {
    "collapsed": false
   },
   "outputs": [],
   "source": [
    "fact_check(\"Around 90,000 unaccompanied children claimed asylum in the EU in 2015\")"
   ]
  }
 ],
 "metadata": {
  "anaconda-cloud": {},
  "kernelspec": {
   "display_name": "Python [conda root]",
   "language": "python",
   "name": "conda-root-py"
  },
  "language_info": {
   "codemirror_mode": {
    "name": "ipython",
    "version": 3
   },
   "file_extension": ".py",
   "mimetype": "text/x-python",
   "name": "python",
   "nbconvert_exporter": "python",
   "pygments_lexer": "ipython3",
   "version": "3.5.2"
  }
 },
 "nbformat": 4,
 "nbformat_minor": 1
}
